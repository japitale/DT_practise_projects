{
 "cells": [
  {
   "cell_type": "code",
   "execution_count": 1,
   "metadata": {},
   "outputs": [],
   "source": [
    "import numpy as np\n",
    "import pandas as pd\n",
    "import sklearn\n",
    "import seaborn as sns\n",
    "import matplotlib.pyplot as plt\n",
    "from sklearn.linear_model import LinearRegression\n",
    "from sklearn.metrics import mean_squared_error, mean_absolute_error\n",
    "from sklearn.model_selection import train_test_split,cross_val_score\n",
    "import datetime as dt"
   ]
  },
  {
   "cell_type": "code",
   "execution_count": 2,
   "metadata": {},
   "outputs": [],
   "source": [
    "df = pd.read_csv(\"E:\\\\python\\\\aggregate_covid_country.csv\")"
   ]
  },
  {
   "cell_type": "code",
   "execution_count": 3,
   "metadata": {},
   "outputs": [
    {
     "data": {
      "text/html": [
       "<div>\n",
       "<style scoped>\n",
       "    .dataframe tbody tr th:only-of-type {\n",
       "        vertical-align: middle;\n",
       "    }\n",
       "\n",
       "    .dataframe tbody tr th {\n",
       "        vertical-align: top;\n",
       "    }\n",
       "\n",
       "    .dataframe thead th {\n",
       "        text-align: right;\n",
       "    }\n",
       "</style>\n",
       "<table border=\"1\" class=\"dataframe\">\n",
       "  <thead>\n",
       "    <tr style=\"text-align: right;\">\n",
       "      <th></th>\n",
       "      <th>Date</th>\n",
       "      <th>Country</th>\n",
       "      <th>Confirmed</th>\n",
       "      <th>Recovered</th>\n",
       "      <th>Deaths</th>\n",
       "    </tr>\n",
       "  </thead>\n",
       "  <tbody>\n",
       "    <tr>\n",
       "      <th>0</th>\n",
       "      <td>2020-01-22</td>\n",
       "      <td>Afghanistan</td>\n",
       "      <td>0</td>\n",
       "      <td>0</td>\n",
       "      <td>0</td>\n",
       "    </tr>\n",
       "    <tr>\n",
       "      <th>1</th>\n",
       "      <td>2020-01-22</td>\n",
       "      <td>Albania</td>\n",
       "      <td>0</td>\n",
       "      <td>0</td>\n",
       "      <td>0</td>\n",
       "    </tr>\n",
       "    <tr>\n",
       "      <th>2</th>\n",
       "      <td>2020-01-22</td>\n",
       "      <td>Algeria</td>\n",
       "      <td>0</td>\n",
       "      <td>0</td>\n",
       "      <td>0</td>\n",
       "    </tr>\n",
       "    <tr>\n",
       "      <th>3</th>\n",
       "      <td>2020-01-22</td>\n",
       "      <td>Andorra</td>\n",
       "      <td>0</td>\n",
       "      <td>0</td>\n",
       "      <td>0</td>\n",
       "    </tr>\n",
       "    <tr>\n",
       "      <th>4</th>\n",
       "      <td>2020-01-22</td>\n",
       "      <td>Angola</td>\n",
       "      <td>0</td>\n",
       "      <td>0</td>\n",
       "      <td>0</td>\n",
       "    </tr>\n",
       "    <tr>\n",
       "      <th>...</th>\n",
       "      <td>...</td>\n",
       "      <td>...</td>\n",
       "      <td>...</td>\n",
       "      <td>...</td>\n",
       "      <td>...</td>\n",
       "    </tr>\n",
       "    <tr>\n",
       "      <th>23683</th>\n",
       "      <td>2020-05-26</td>\n",
       "      <td>West Bank and Gaza</td>\n",
       "      <td>429</td>\n",
       "      <td>365</td>\n",
       "      <td>3</td>\n",
       "    </tr>\n",
       "    <tr>\n",
       "      <th>23684</th>\n",
       "      <td>2020-05-26</td>\n",
       "      <td>Western Sahara</td>\n",
       "      <td>9</td>\n",
       "      <td>6</td>\n",
       "      <td>1</td>\n",
       "    </tr>\n",
       "    <tr>\n",
       "      <th>23685</th>\n",
       "      <td>2020-05-26</td>\n",
       "      <td>Yemen</td>\n",
       "      <td>249</td>\n",
       "      <td>10</td>\n",
       "      <td>49</td>\n",
       "    </tr>\n",
       "    <tr>\n",
       "      <th>23686</th>\n",
       "      <td>2020-05-26</td>\n",
       "      <td>Zambia</td>\n",
       "      <td>920</td>\n",
       "      <td>336</td>\n",
       "      <td>7</td>\n",
       "    </tr>\n",
       "    <tr>\n",
       "      <th>23687</th>\n",
       "      <td>2020-05-26</td>\n",
       "      <td>Zimbabwe</td>\n",
       "      <td>56</td>\n",
       "      <td>25</td>\n",
       "      <td>4</td>\n",
       "    </tr>\n",
       "  </tbody>\n",
       "</table>\n",
       "<p>23688 rows × 5 columns</p>\n",
       "</div>"
      ],
      "text/plain": [
       "             Date             Country  Confirmed  Recovered  Deaths\n",
       "0      2020-01-22         Afghanistan          0          0       0\n",
       "1      2020-01-22             Albania          0          0       0\n",
       "2      2020-01-22             Algeria          0          0       0\n",
       "3      2020-01-22             Andorra          0          0       0\n",
       "4      2020-01-22              Angola          0          0       0\n",
       "...           ...                 ...        ...        ...     ...\n",
       "23683  2020-05-26  West Bank and Gaza        429        365       3\n",
       "23684  2020-05-26      Western Sahara          9          6       1\n",
       "23685  2020-05-26               Yemen        249         10      49\n",
       "23686  2020-05-26              Zambia        920        336       7\n",
       "23687  2020-05-26            Zimbabwe         56         25       4\n",
       "\n",
       "[23688 rows x 5 columns]"
      ]
     },
     "execution_count": 3,
     "metadata": {},
     "output_type": "execute_result"
    }
   ],
   "source": [
    "df"
   ]
  },
  {
   "cell_type": "code",
   "execution_count": 4,
   "metadata": {},
   "outputs": [
    {
     "data": {
      "text/plain": [
       "Date         0\n",
       "Country      0\n",
       "Confirmed    0\n",
       "Recovered    0\n",
       "Deaths       0\n",
       "dtype: int64"
      ]
     },
     "execution_count": 4,
     "metadata": {},
     "output_type": "execute_result"
    }
   ],
   "source": [
    "df.isnull().sum()"
   ]
  },
  {
   "cell_type": "code",
   "execution_count": 5,
   "metadata": {},
   "outputs": [
    {
     "data": {
      "text/plain": [
       "Date         object\n",
       "Country      object\n",
       "Confirmed     int64\n",
       "Recovered     int64\n",
       "Deaths        int64\n",
       "dtype: object"
      ]
     },
     "execution_count": 5,
     "metadata": {},
     "output_type": "execute_result"
    }
   ],
   "source": [
    "df.dtypes"
   ]
  },
  {
   "cell_type": "code",
   "execution_count": 6,
   "metadata": {},
   "outputs": [],
   "source": [
    "df['Date'] = pd.to_datetime(df['Date'])"
   ]
  },
  {
   "cell_type": "code",
   "execution_count": 7,
   "metadata": {},
   "outputs": [
    {
     "data": {
      "text/plain": [
       "Date         datetime64[ns]\n",
       "Country              object\n",
       "Confirmed             int64\n",
       "Recovered             int64\n",
       "Deaths                int64\n",
       "dtype: object"
      ]
     },
     "execution_count": 7,
     "metadata": {},
     "output_type": "execute_result"
    }
   ],
   "source": [
    "df.dtypes"
   ]
  },
  {
   "cell_type": "code",
   "execution_count": 8,
   "metadata": {},
   "outputs": [
    {
     "data": {
      "text/plain": [
       "0         21\n",
       "1         21\n",
       "2         21\n",
       "3         21\n",
       "4         21\n",
       "        ... \n",
       "23683    146\n",
       "23684    146\n",
       "23685    146\n",
       "23686    146\n",
       "23687    146\n",
       "Name: Date, Length: 23688, dtype: int64"
      ]
     },
     "execution_count": 8,
     "metadata": {},
     "output_type": "execute_result"
    }
   ],
   "source": [
    "#Here we are going to convert Date column into numeric datetype by calculating the difference in days between \n",
    "#given date and the fixed date of 1st January 2020 as most of the cases were started to be reporting from 1st january 2020 \n",
    "\n",
    "#import datetime\n",
    "dt1 = pd.to_datetime('2020-01-01')\n",
    "df['Date'] = (df['Date']-dt1).dt.days\n",
    "df['Date']\n",
    "#dt2 = datetime.date('2020-12-31')\n",
    "#diff = dt2-dt1\n",
    "#diff"
   ]
  },
  {
   "cell_type": "code",
   "execution_count": 9,
   "metadata": {},
   "outputs": [
    {
     "data": {
      "text/html": [
       "<div>\n",
       "<style scoped>\n",
       "    .dataframe tbody tr th:only-of-type {\n",
       "        vertical-align: middle;\n",
       "    }\n",
       "\n",
       "    .dataframe tbody tr th {\n",
       "        vertical-align: top;\n",
       "    }\n",
       "\n",
       "    .dataframe thead th {\n",
       "        text-align: right;\n",
       "    }\n",
       "</style>\n",
       "<table border=\"1\" class=\"dataframe\">\n",
       "  <thead>\n",
       "    <tr style=\"text-align: right;\">\n",
       "      <th></th>\n",
       "      <th>Date</th>\n",
       "      <th>Country</th>\n",
       "      <th>Confirmed</th>\n",
       "      <th>Recovered</th>\n",
       "      <th>Deaths</th>\n",
       "    </tr>\n",
       "  </thead>\n",
       "  <tbody>\n",
       "    <tr>\n",
       "      <th>0</th>\n",
       "      <td>21</td>\n",
       "      <td>Afghanistan</td>\n",
       "      <td>0</td>\n",
       "      <td>0</td>\n",
       "      <td>0</td>\n",
       "    </tr>\n",
       "    <tr>\n",
       "      <th>1</th>\n",
       "      <td>21</td>\n",
       "      <td>Albania</td>\n",
       "      <td>0</td>\n",
       "      <td>0</td>\n",
       "      <td>0</td>\n",
       "    </tr>\n",
       "    <tr>\n",
       "      <th>2</th>\n",
       "      <td>21</td>\n",
       "      <td>Algeria</td>\n",
       "      <td>0</td>\n",
       "      <td>0</td>\n",
       "      <td>0</td>\n",
       "    </tr>\n",
       "    <tr>\n",
       "      <th>3</th>\n",
       "      <td>21</td>\n",
       "      <td>Andorra</td>\n",
       "      <td>0</td>\n",
       "      <td>0</td>\n",
       "      <td>0</td>\n",
       "    </tr>\n",
       "    <tr>\n",
       "      <th>4</th>\n",
       "      <td>21</td>\n",
       "      <td>Angola</td>\n",
       "      <td>0</td>\n",
       "      <td>0</td>\n",
       "      <td>0</td>\n",
       "    </tr>\n",
       "    <tr>\n",
       "      <th>...</th>\n",
       "      <td>...</td>\n",
       "      <td>...</td>\n",
       "      <td>...</td>\n",
       "      <td>...</td>\n",
       "      <td>...</td>\n",
       "    </tr>\n",
       "    <tr>\n",
       "      <th>23683</th>\n",
       "      <td>146</td>\n",
       "      <td>West Bank and Gaza</td>\n",
       "      <td>429</td>\n",
       "      <td>365</td>\n",
       "      <td>3</td>\n",
       "    </tr>\n",
       "    <tr>\n",
       "      <th>23684</th>\n",
       "      <td>146</td>\n",
       "      <td>Western Sahara</td>\n",
       "      <td>9</td>\n",
       "      <td>6</td>\n",
       "      <td>1</td>\n",
       "    </tr>\n",
       "    <tr>\n",
       "      <th>23685</th>\n",
       "      <td>146</td>\n",
       "      <td>Yemen</td>\n",
       "      <td>249</td>\n",
       "      <td>10</td>\n",
       "      <td>49</td>\n",
       "    </tr>\n",
       "    <tr>\n",
       "      <th>23686</th>\n",
       "      <td>146</td>\n",
       "      <td>Zambia</td>\n",
       "      <td>920</td>\n",
       "      <td>336</td>\n",
       "      <td>7</td>\n",
       "    </tr>\n",
       "    <tr>\n",
       "      <th>23687</th>\n",
       "      <td>146</td>\n",
       "      <td>Zimbabwe</td>\n",
       "      <td>56</td>\n",
       "      <td>25</td>\n",
       "      <td>4</td>\n",
       "    </tr>\n",
       "  </tbody>\n",
       "</table>\n",
       "<p>23688 rows × 5 columns</p>\n",
       "</div>"
      ],
      "text/plain": [
       "       Date             Country  Confirmed  Recovered  Deaths\n",
       "0        21         Afghanistan          0          0       0\n",
       "1        21             Albania          0          0       0\n",
       "2        21             Algeria          0          0       0\n",
       "3        21             Andorra          0          0       0\n",
       "4        21              Angola          0          0       0\n",
       "...     ...                 ...        ...        ...     ...\n",
       "23683   146  West Bank and Gaza        429        365       3\n",
       "23684   146      Western Sahara          9          6       1\n",
       "23685   146               Yemen        249         10      49\n",
       "23686   146              Zambia        920        336       7\n",
       "23687   146            Zimbabwe         56         25       4\n",
       "\n",
       "[23688 rows x 5 columns]"
      ]
     },
     "execution_count": 9,
     "metadata": {},
     "output_type": "execute_result"
    }
   ],
   "source": [
    "df"
   ]
  },
  {
   "cell_type": "code",
   "execution_count": 10,
   "metadata": {},
   "outputs": [
    {
     "data": {
      "text/html": [
       "<div>\n",
       "<style scoped>\n",
       "    .dataframe tbody tr th:only-of-type {\n",
       "        vertical-align: middle;\n",
       "    }\n",
       "\n",
       "    .dataframe tbody tr th {\n",
       "        vertical-align: top;\n",
       "    }\n",
       "\n",
       "    .dataframe thead th {\n",
       "        text-align: right;\n",
       "    }\n",
       "</style>\n",
       "<table border=\"1\" class=\"dataframe\">\n",
       "  <thead>\n",
       "    <tr style=\"text-align: right;\">\n",
       "      <th></th>\n",
       "      <th>Date</th>\n",
       "      <th>Country</th>\n",
       "      <th>Confirmed</th>\n",
       "      <th>Recovered</th>\n",
       "      <th>Deaths</th>\n",
       "    </tr>\n",
       "  </thead>\n",
       "  <tbody>\n",
       "    <tr>\n",
       "      <th>0</th>\n",
       "      <td>21</td>\n",
       "      <td>0</td>\n",
       "      <td>0</td>\n",
       "      <td>0</td>\n",
       "      <td>0</td>\n",
       "    </tr>\n",
       "    <tr>\n",
       "      <th>1</th>\n",
       "      <td>21</td>\n",
       "      <td>1</td>\n",
       "      <td>0</td>\n",
       "      <td>0</td>\n",
       "      <td>0</td>\n",
       "    </tr>\n",
       "    <tr>\n",
       "      <th>2</th>\n",
       "      <td>21</td>\n",
       "      <td>2</td>\n",
       "      <td>0</td>\n",
       "      <td>0</td>\n",
       "      <td>0</td>\n",
       "    </tr>\n",
       "    <tr>\n",
       "      <th>3</th>\n",
       "      <td>21</td>\n",
       "      <td>3</td>\n",
       "      <td>0</td>\n",
       "      <td>0</td>\n",
       "      <td>0</td>\n",
       "    </tr>\n",
       "    <tr>\n",
       "      <th>4</th>\n",
       "      <td>21</td>\n",
       "      <td>4</td>\n",
       "      <td>0</td>\n",
       "      <td>0</td>\n",
       "      <td>0</td>\n",
       "    </tr>\n",
       "    <tr>\n",
       "      <th>...</th>\n",
       "      <td>...</td>\n",
       "      <td>...</td>\n",
       "      <td>...</td>\n",
       "      <td>...</td>\n",
       "      <td>...</td>\n",
       "    </tr>\n",
       "    <tr>\n",
       "      <th>23683</th>\n",
       "      <td>146</td>\n",
       "      <td>183</td>\n",
       "      <td>429</td>\n",
       "      <td>365</td>\n",
       "      <td>3</td>\n",
       "    </tr>\n",
       "    <tr>\n",
       "      <th>23684</th>\n",
       "      <td>146</td>\n",
       "      <td>184</td>\n",
       "      <td>9</td>\n",
       "      <td>6</td>\n",
       "      <td>1</td>\n",
       "    </tr>\n",
       "    <tr>\n",
       "      <th>23685</th>\n",
       "      <td>146</td>\n",
       "      <td>185</td>\n",
       "      <td>249</td>\n",
       "      <td>10</td>\n",
       "      <td>49</td>\n",
       "    </tr>\n",
       "    <tr>\n",
       "      <th>23686</th>\n",
       "      <td>146</td>\n",
       "      <td>186</td>\n",
       "      <td>920</td>\n",
       "      <td>336</td>\n",
       "      <td>7</td>\n",
       "    </tr>\n",
       "    <tr>\n",
       "      <th>23687</th>\n",
       "      <td>146</td>\n",
       "      <td>187</td>\n",
       "      <td>56</td>\n",
       "      <td>25</td>\n",
       "      <td>4</td>\n",
       "    </tr>\n",
       "  </tbody>\n",
       "</table>\n",
       "<p>23688 rows × 5 columns</p>\n",
       "</div>"
      ],
      "text/plain": [
       "       Date  Country  Confirmed  Recovered  Deaths\n",
       "0        21        0          0          0       0\n",
       "1        21        1          0          0       0\n",
       "2        21        2          0          0       0\n",
       "3        21        3          0          0       0\n",
       "4        21        4          0          0       0\n",
       "...     ...      ...        ...        ...     ...\n",
       "23683   146      183        429        365       3\n",
       "23684   146      184          9          6       1\n",
       "23685   146      185        249         10      49\n",
       "23686   146      186        920        336       7\n",
       "23687   146      187         56         25       4\n",
       "\n",
       "[23688 rows x 5 columns]"
      ]
     },
     "execution_count": 10,
     "metadata": {},
     "output_type": "execute_result"
    }
   ],
   "source": [
    "from sklearn.preprocessing import LabelEncoder\n",
    "le=LabelEncoder()\n",
    "df['Country']=le.fit_transform(df['Country'])\n",
    "df"
   ]
  },
  {
   "cell_type": "code",
   "execution_count": 11,
   "metadata": {},
   "outputs": [
    {
     "data": {
      "text/plain": [
       "array([  0,   1,   2,   3,   4,   5,   6,   7,   8,   9,  10,  11,  12,\n",
       "        13,  14,  15,  16,  17,  18,  19,  20,  21,  22,  23,  24,  25,\n",
       "        26,  27,  28,  29,  30,  31,  32,  33,  34,  35,  36,  37,  38,\n",
       "        39,  40,  41,  42,  43,  44,  45,  46,  47,  48,  49,  50,  51,\n",
       "        52,  53,  54,  55,  56,  57,  58,  59,  60,  61,  62,  63,  64,\n",
       "        65,  66,  67,  68,  69,  70,  71,  72,  73,  74,  75,  76,  77,\n",
       "        78,  79,  80,  81,  82,  83,  84,  85,  86,  87,  88,  89,  90,\n",
       "        91,  92,  93,  94,  95,  96,  97,  98,  99, 100, 101, 102, 103,\n",
       "       104, 105, 106, 107, 108, 109, 110, 111, 112, 113, 114, 115, 116,\n",
       "       117, 118, 119, 120, 121, 122, 123, 124, 125, 126, 127, 128, 129,\n",
       "       130, 131, 132, 133, 134, 135, 136, 137, 138, 139, 140, 141, 142,\n",
       "       143, 144, 145, 146, 147, 148, 149, 150, 151, 152, 153, 154, 155,\n",
       "       156, 157, 158, 159, 160, 161, 162, 163, 164, 165, 166, 167, 168,\n",
       "       169, 170, 171, 172, 173, 174, 175, 176, 177, 178, 179, 180, 181,\n",
       "       182, 183, 184, 185, 186, 187])"
      ]
     },
     "execution_count": 11,
     "metadata": {},
     "output_type": "execute_result"
    }
   ],
   "source": [
    "df['Country'].unique()"
   ]
  },
  {
   "cell_type": "code",
   "execution_count": 12,
   "metadata": {},
   "outputs": [
    {
     "data": {
      "text/html": [
       "<div>\n",
       "<style scoped>\n",
       "    .dataframe tbody tr th:only-of-type {\n",
       "        vertical-align: middle;\n",
       "    }\n",
       "\n",
       "    .dataframe tbody tr th {\n",
       "        vertical-align: top;\n",
       "    }\n",
       "\n",
       "    .dataframe thead th {\n",
       "        text-align: right;\n",
       "    }\n",
       "</style>\n",
       "<table border=\"1\" class=\"dataframe\">\n",
       "  <thead>\n",
       "    <tr style=\"text-align: right;\">\n",
       "      <th></th>\n",
       "      <th>Date</th>\n",
       "      <th>Country</th>\n",
       "      <th>Confirmed</th>\n",
       "      <th>Recovered</th>\n",
       "      <th>Deaths</th>\n",
       "    </tr>\n",
       "  </thead>\n",
       "  <tbody>\n",
       "    <tr>\n",
       "      <th>count</th>\n",
       "      <td>23688.000000</td>\n",
       "      <td>23688.000000</td>\n",
       "      <td>2.368800e+04</td>\n",
       "      <td>23688.000000</td>\n",
       "      <td>23688.000000</td>\n",
       "    </tr>\n",
       "    <tr>\n",
       "      <th>mean</th>\n",
       "      <td>83.500000</td>\n",
       "      <td>93.500000</td>\n",
       "      <td>7.969368e+03</td>\n",
       "      <td>2581.801714</td>\n",
       "      <td>526.935030</td>\n",
       "    </tr>\n",
       "    <tr>\n",
       "      <th>std</th>\n",
       "      <td>36.372689</td>\n",
       "      <td>54.271303</td>\n",
       "      <td>5.842109e+04</td>\n",
       "      <td>15143.101257</td>\n",
       "      <td>3992.815956</td>\n",
       "    </tr>\n",
       "    <tr>\n",
       "      <th>min</th>\n",
       "      <td>21.000000</td>\n",
       "      <td>0.000000</td>\n",
       "      <td>0.000000e+00</td>\n",
       "      <td>0.000000</td>\n",
       "      <td>0.000000</td>\n",
       "    </tr>\n",
       "    <tr>\n",
       "      <th>25%</th>\n",
       "      <td>52.000000</td>\n",
       "      <td>46.750000</td>\n",
       "      <td>0.000000e+00</td>\n",
       "      <td>0.000000</td>\n",
       "      <td>0.000000</td>\n",
       "    </tr>\n",
       "    <tr>\n",
       "      <th>50%</th>\n",
       "      <td>83.500000</td>\n",
       "      <td>93.500000</td>\n",
       "      <td>1.800000e+01</td>\n",
       "      <td>1.000000</td>\n",
       "      <td>0.000000</td>\n",
       "    </tr>\n",
       "    <tr>\n",
       "      <th>75%</th>\n",
       "      <td>115.000000</td>\n",
       "      <td>140.250000</td>\n",
       "      <td>7.300000e+02</td>\n",
       "      <td>123.000000</td>\n",
       "      <td>13.000000</td>\n",
       "    </tr>\n",
       "    <tr>\n",
       "      <th>max</th>\n",
       "      <td>146.000000</td>\n",
       "      <td>187.000000</td>\n",
       "      <td>1.680913e+06</td>\n",
       "      <td>384902.000000</td>\n",
       "      <td>98913.000000</td>\n",
       "    </tr>\n",
       "  </tbody>\n",
       "</table>\n",
       "</div>"
      ],
      "text/plain": [
       "               Date       Country     Confirmed      Recovered        Deaths\n",
       "count  23688.000000  23688.000000  2.368800e+04   23688.000000  23688.000000\n",
       "mean      83.500000     93.500000  7.969368e+03    2581.801714    526.935030\n",
       "std       36.372689     54.271303  5.842109e+04   15143.101257   3992.815956\n",
       "min       21.000000      0.000000  0.000000e+00       0.000000      0.000000\n",
       "25%       52.000000     46.750000  0.000000e+00       0.000000      0.000000\n",
       "50%       83.500000     93.500000  1.800000e+01       1.000000      0.000000\n",
       "75%      115.000000    140.250000  7.300000e+02     123.000000     13.000000\n",
       "max      146.000000    187.000000  1.680913e+06  384902.000000  98913.000000"
      ]
     },
     "execution_count": 12,
     "metadata": {},
     "output_type": "execute_result"
    }
   ],
   "source": [
    "df.describe()"
   ]
  },
  {
   "cell_type": "code",
   "execution_count": 13,
   "metadata": {},
   "outputs": [
    {
     "name": "stdout",
     "output_type": "stream",
     "text": [
      "<class 'pandas.core.frame.DataFrame'>\n",
      "Index: 8 entries, count to max\n",
      "Data columns (total 5 columns):\n",
      " #   Column     Non-Null Count  Dtype  \n",
      "---  ------     --------------  -----  \n",
      " 0   Date       8 non-null      float64\n",
      " 1   Country    8 non-null      float64\n",
      " 2   Confirmed  8 non-null      float64\n",
      " 3   Recovered  8 non-null      float64\n",
      " 4   Deaths     8 non-null      float64\n",
      "dtypes: float64(5)\n",
      "memory usage: 384.0+ bytes\n"
     ]
    }
   ],
   "source": [
    "df.describe().info()"
   ]
  },
  {
   "cell_type": "code",
   "execution_count": 14,
   "metadata": {},
   "outputs": [
    {
     "name": "stdout",
     "output_type": "stream",
     "text": [
      "Date          63.0\n",
      "Country       93.5\n",
      "Confirmed    730.0\n",
      "Recovered    123.0\n",
      "Deaths        13.0\n",
      "dtype: float64\n"
     ]
    }
   ],
   "source": [
    "Q1=df.quantile(0.25)\n",
    "Q3=df.quantile(0.75)\n",
    "IQR=Q3-Q1\n",
    "print(IQR)"
   ]
  },
  {
   "cell_type": "code",
   "execution_count": 15,
   "metadata": {},
   "outputs": [
    {
     "name": "stdout",
     "output_type": "stream",
     "text": [
      "        Date  Country  Confirmed  Recovered  Deaths\n",
      "0      False    False      False      False   False\n",
      "1      False    False      False      False   False\n",
      "2      False    False      False      False   False\n",
      "3      False    False      False      False   False\n",
      "4      False    False      False      False   False\n",
      "...      ...      ...        ...        ...     ...\n",
      "23683  False    False      False      False   False\n",
      "23684  False    False      False      False   False\n",
      "23685  False    False      False      False   False\n",
      "23686  False    False      False      False   False\n",
      "23687  False    False      False      False   False\n",
      "\n",
      "[23688 rows x 5 columns]\n"
     ]
    },
    {
     "data": {
      "text/html": [
       "<div>\n",
       "<style scoped>\n",
       "    .dataframe tbody tr th:only-of-type {\n",
       "        vertical-align: middle;\n",
       "    }\n",
       "\n",
       "    .dataframe tbody tr th {\n",
       "        vertical-align: top;\n",
       "    }\n",
       "\n",
       "    .dataframe thead th {\n",
       "        text-align: right;\n",
       "    }\n",
       "</style>\n",
       "<table border=\"1\" class=\"dataframe\">\n",
       "  <thead>\n",
       "    <tr style=\"text-align: right;\">\n",
       "      <th></th>\n",
       "      <th>Date</th>\n",
       "      <th>Country</th>\n",
       "      <th>Confirmed</th>\n",
       "      <th>Recovered</th>\n",
       "      <th>Deaths</th>\n",
       "    </tr>\n",
       "  </thead>\n",
       "  <tbody>\n",
       "    <tr>\n",
       "      <th>0</th>\n",
       "      <td>False</td>\n",
       "      <td>False</td>\n",
       "      <td>False</td>\n",
       "      <td>False</td>\n",
       "      <td>False</td>\n",
       "    </tr>\n",
       "    <tr>\n",
       "      <th>1</th>\n",
       "      <td>False</td>\n",
       "      <td>False</td>\n",
       "      <td>False</td>\n",
       "      <td>False</td>\n",
       "      <td>False</td>\n",
       "    </tr>\n",
       "    <tr>\n",
       "      <th>2</th>\n",
       "      <td>False</td>\n",
       "      <td>False</td>\n",
       "      <td>False</td>\n",
       "      <td>False</td>\n",
       "      <td>False</td>\n",
       "    </tr>\n",
       "    <tr>\n",
       "      <th>3</th>\n",
       "      <td>False</td>\n",
       "      <td>False</td>\n",
       "      <td>False</td>\n",
       "      <td>False</td>\n",
       "      <td>False</td>\n",
       "    </tr>\n",
       "    <tr>\n",
       "      <th>4</th>\n",
       "      <td>False</td>\n",
       "      <td>False</td>\n",
       "      <td>False</td>\n",
       "      <td>False</td>\n",
       "      <td>False</td>\n",
       "    </tr>\n",
       "    <tr>\n",
       "      <th>...</th>\n",
       "      <td>...</td>\n",
       "      <td>...</td>\n",
       "      <td>...</td>\n",
       "      <td>...</td>\n",
       "      <td>...</td>\n",
       "    </tr>\n",
       "    <tr>\n",
       "      <th>23683</th>\n",
       "      <td>False</td>\n",
       "      <td>False</td>\n",
       "      <td>False</td>\n",
       "      <td>True</td>\n",
       "      <td>False</td>\n",
       "    </tr>\n",
       "    <tr>\n",
       "      <th>23684</th>\n",
       "      <td>False</td>\n",
       "      <td>False</td>\n",
       "      <td>False</td>\n",
       "      <td>False</td>\n",
       "      <td>False</td>\n",
       "    </tr>\n",
       "    <tr>\n",
       "      <th>23685</th>\n",
       "      <td>False</td>\n",
       "      <td>False</td>\n",
       "      <td>False</td>\n",
       "      <td>False</td>\n",
       "      <td>True</td>\n",
       "    </tr>\n",
       "    <tr>\n",
       "      <th>23686</th>\n",
       "      <td>False</td>\n",
       "      <td>False</td>\n",
       "      <td>False</td>\n",
       "      <td>True</td>\n",
       "      <td>False</td>\n",
       "    </tr>\n",
       "    <tr>\n",
       "      <th>23687</th>\n",
       "      <td>False</td>\n",
       "      <td>False</td>\n",
       "      <td>False</td>\n",
       "      <td>False</td>\n",
       "      <td>False</td>\n",
       "    </tr>\n",
       "  </tbody>\n",
       "</table>\n",
       "<p>23688 rows × 5 columns</p>\n",
       "</div>"
      ],
      "text/plain": [
       "        Date  Country  Confirmed  Recovered  Deaths\n",
       "0      False    False      False      False   False\n",
       "1      False    False      False      False   False\n",
       "2      False    False      False      False   False\n",
       "3      False    False      False      False   False\n",
       "4      False    False      False      False   False\n",
       "...      ...      ...        ...        ...     ...\n",
       "23683  False    False      False       True   False\n",
       "23684  False    False      False      False   False\n",
       "23685  False    False      False      False    True\n",
       "23686  False    False      False       True   False\n",
       "23687  False    False      False      False   False\n",
       "\n",
       "[23688 rows x 5 columns]"
      ]
     },
     "execution_count": 15,
     "metadata": {},
     "output_type": "execute_result"
    }
   ],
   "source": [
    "print(df < (Q1 - 1.5 * IQR)) or (df > (Q3 + 1.5 * IQR))"
   ]
  },
  {
   "cell_type": "code",
   "execution_count": 16,
   "metadata": {},
   "outputs": [
    {
     "data": {
      "text/plain": [
       "Date            AxesSubplot(0.125,0.125;0.133621x0.755)\n",
       "Country      AxesSubplot(0.285345,0.125;0.133621x0.755)\n",
       "Confirmed     AxesSubplot(0.44569,0.125;0.133621x0.755)\n",
       "Recovered    AxesSubplot(0.606034,0.125;0.133621x0.755)\n",
       "Deaths       AxesSubplot(0.766379,0.125;0.133621x0.755)\n",
       "dtype: object"
      ]
     },
     "execution_count": 16,
     "metadata": {},
     "output_type": "execute_result"
    },
    {
     "data": {
      "image/png": "[encoded data removed]",
      "text/plain": [
       "<Figure size 432x288 with 5 Axes>"
      ]
     },
     "metadata": {
      "needs_background": "light"
     },
     "output_type": "display_data"
    }
   ],
   "source": [
    "df.plot(kind='box',subplots=True,layout=(1,5))"
   ]
  },
  {
   "cell_type": "code",
   "execution_count": 17,
   "metadata": {},
   "outputs": [
    {
     "data": {
      "text/plain": [
       "<AxesSubplot:>"
      ]
     },
     "execution_count": 17,
     "metadata": {},
     "output_type": "execute_result"
    },
    {
     "data": {
      "image/png": "[encoded data removed]",
      "text/plain": [
       "<Figure size 432x288 with 1 Axes>"
      ]
     },
     "metadata": {
      "needs_background": "light"
     },
     "output_type": "display_data"
    }
   ],
   "source": [
    "df['Confirmed'].plot(kind='box')"
   ]
  },
  {
   "cell_type": "code",
   "execution_count": 18,
   "metadata": {},
   "outputs": [
    {
     "data": {
      "text/plain": [
       "<AxesSubplot:>"
      ]
     },
     "execution_count": 18,
     "metadata": {},
     "output_type": "execute_result"
    },
    {
     "data": {
      "image/png": "[encoded data removed]",
      "text/plain": [
       "<Figure size 432x288 with 1 Axes>"
      ]
     },
     "metadata": {
      "needs_background": "light"
     },
     "output_type": "display_data"
    }
   ],
   "source": [
    "df['Deaths'].plot(kind='box')"
   ]
  },
  {
   "cell_type": "code",
   "execution_count": 19,
   "metadata": {},
   "outputs": [],
   "source": [
    "from sklearn.preprocessing import StandardScaler"
   ]
  },
  {
   "cell_type": "code",
   "execution_count": 20,
   "metadata": {},
   "outputs": [],
   "source": [
    "#scale = StandardScaler()\n",
    "#cols=['Confirmed','Recovered','Deaths']\n",
    "#df[cols]=scale.fit_transform(df[cols])\n",
    "# We are not using any scaling technique over here as due to this final output/ target variable values is not \n",
    "#returned in expected format."
   ]
  },
  {
   "cell_type": "code",
   "execution_count": 21,
   "metadata": {},
   "outputs": [],
   "source": [
    "#df[cols].shape"
   ]
  },
  {
   "cell_type": "code",
   "execution_count": 22,
   "metadata": {},
   "outputs": [],
   "source": [
    "#df[cols]"
   ]
  },
  {
   "cell_type": "code",
   "execution_count": 23,
   "metadata": {},
   "outputs": [],
   "source": [
    "x = df.iloc[:,0:-1]"
   ]
  },
  {
   "cell_type": "code",
   "execution_count": 24,
   "metadata": {},
   "outputs": [
    {
     "data": {
      "text/plain": [
       "(23688, 4)"
      ]
     },
     "execution_count": 24,
     "metadata": {},
     "output_type": "execute_result"
    }
   ],
   "source": [
    "x.shape"
   ]
  },
  {
   "cell_type": "code",
   "execution_count": 25,
   "metadata": {},
   "outputs": [],
   "source": [
    "y = df.iloc[:,-1]"
   ]
  },
  {
   "cell_type": "code",
   "execution_count": 26,
   "metadata": {},
   "outputs": [
    {
     "data": {
      "text/plain": [
       "(23688,)"
      ]
     },
     "execution_count": 26,
     "metadata": {},
     "output_type": "execute_result"
    }
   ],
   "source": [
    "y.shape"
   ]
  },
  {
   "cell_type": "code",
   "execution_count": 27,
   "metadata": {},
   "outputs": [],
   "source": [
    "from sklearn.metrics import r2_score"
   ]
  },
  {
   "cell_type": "code",
   "execution_count": 28,
   "metadata": {},
   "outputs": [
    {
     "name": "stdout",
     "output_type": "stream",
     "text": [
      "Best_R2_score is: 0.9255951968930941 \n",
      "Best random state value is: 263\n",
      "Predicted values using Linear Regression model:\n",
      " [-28.35632039 -27.2286742  438.85305619 ...  50.54158555  44.31833885\n",
      " -29.85282151]\n",
      "Random state used is: 263\n",
      "R2 score: 0.9255951968930941\n",
      "errors:\n",
      "Absolute squarred error: 256.22927608743885\n",
      "Mean squarred error: 1752253.4535269397\n"
     ]
    }
   ],
   "source": [
    "best_rstate_lr=0\n",
    "best_r2_score_lr=0\n",
    "for i in range(1,500):\n",
    "    train_x,test_x,train_y,test_y=train_test_split(x,y,test_size=.20,random_state=i)\n",
    "    lr=LinearRegression()\n",
    "    lr.fit(train_x,train_y)\n",
    "    pred_lr=lr.predict(test_x)\n",
    "    temp_r2_score_lr=r2_score(pred_lr,test_y)\n",
    "    if temp_r2_score_lr > best_r2_score_lr:\n",
    "        best_r2_score_lr = temp_r2_score_lr\n",
    "        best_rstate_lr=i\n",
    "        \n",
    "print(\"Best_R2_score is:\",best_r2_score_lr, \"\\nBest random state value is:\",best_rstate_lr)\n",
    "\n",
    "train_x,test_x,train_y,test_y=train_test_split(x,y,test_size=.20,random_state=best_rstate_lr)\n",
    "#train_x.shape,test_x.shape,train_y.shape,test_y.shape\n",
    "#lg=LogisticRegression()\n",
    "lr.fit(train_x,train_y)\n",
    "predlr=lr.predict(test_x)\n",
    "print(\"Predicted values using Linear Regression model:\\n\",predlr)\n",
    "\n",
    "print(\"Random state used is:\",best_rstate_lr)\n",
    "print(\"R2 score:\",r2_score(predlr,test_y))\n",
    "print(\"errors:\")\n",
    "print(\"Absolute squarred error:\", mean_absolute_error(test_y,predlr))\n",
    "print(\"Mean squarred error:\", mean_squared_error(test_y,predlr))"
   ]
  },
  {
   "cell_type": "code",
   "execution_count": 29,
   "metadata": {},
   "outputs": [],
   "source": [
    "#print(test_y)"
   ]
  },
  {
   "cell_type": "code",
   "execution_count": 30,
   "metadata": {},
   "outputs": [
    {
     "name": "stdout",
     "output_type": "stream",
     "text": [
      "Predict values are: [-28.35632039 -27.2286742  438.85305619 ...  50.54158555  44.31833885\n",
      " -29.85282151]\n",
      "Actual values are: 476         0\n",
      "1920        0\n",
      "15612      62\n",
      "4080        0\n",
      "19445    6277\n",
      "         ... \n",
      "12277       1\n",
      "14890       0\n",
      "21923       4\n",
      "22986       0\n",
      "631         0\n",
      "Name: Deaths, Length: 4738, dtype: int64\n"
     ]
    }
   ],
   "source": [
    "print(\"Predict values are:\",predlr)\n",
    "print(\"Actual values are:\",test_y)"
   ]
  },
  {
   "cell_type": "code",
   "execution_count": 31,
   "metadata": {},
   "outputs": [],
   "source": [
    "from sklearn.linear_model import Lasso,Ridge,ElasticNet"
   ]
  },
  {
   "cell_type": "code",
   "execution_count": 32,
   "metadata": {},
   "outputs": [],
   "source": [
    "#ls=Lasso(alpha=0.001)\n",
    "#rd=Ridge(alpha=0.001)\n",
    "#enr=ElasticNet(alpha=0.001)\n",
    "#models=(ls,rd,enr)\n",
    "#for i in models:\n",
    "#    i.fit(train_x,train_y)\n",
    "   # i.score(train_x,train_y)\n",
    "#    print(\"Score of:\",i,\"model is:\",i.score(train_x,train_y))"
   ]
  },
  {
   "cell_type": "code",
   "execution_count": 33,
   "metadata": {},
   "outputs": [],
   "source": [
    "# Regularization score of Lasso, Ridge and ElasticNet indicates that model is not overfit/underfit."
   ]
  },
  {
   "cell_type": "code",
   "execution_count": 34,
   "metadata": {},
   "outputs": [],
   "source": [
    "output_data_lr=pd.DataFrame(predlr)\n",
    "output_data_lr.to_csv(\"E:\\\\python\\\\Covid19_deaths_prediction_linear.csv\",header=0)"
   ]
  },
  {
   "cell_type": "code",
   "execution_count": 35,
   "metadata": {},
   "outputs": [
    {
     "name": "stdout",
     "output_type": "stream",
     "text": [
      "Best_score is: 0.8820909105519007 \n",
      "Best random state value is: 82\n",
      "Predicted values using Lasso Regression model:\n",
      " [ 52.51971017  20.4090827   -1.03168777 ... -16.54231386   7.8286824\n",
      "  52.76909776]\n",
      "Random state used is: 82\n",
      "score: 0.8820909105519007\n",
      "errors:\n",
      "Absolute squarred error: 317.7677159041805\n",
      "Mean squarred error: 2694404.312968522\n"
     ]
    }
   ],
   "source": [
    "best_rstate_lasso=0\n",
    "best_score_ls=0\n",
    "\n",
    "for i in range(1,500):\n",
    "    train_x,test_x,train_y,test_y=train_test_split(x,y,test_size=.20,random_state=i)\n",
    "    ls=Lasso(alpha=0.001)\n",
    "    ls.fit(train_x,train_y)\n",
    "    pred_ls=ls.predict(test_x)\n",
    "    temp_score_ls=ls.score(train_x,train_y)\n",
    "    if temp_score_ls > best_score_ls:\n",
    "        best_score_ls = temp_score_ls\n",
    "        best_rstate_ls=i\n",
    "        \n",
    "print(\"Best_score is:\",best_score_ls, \"\\nBest random state value is:\",best_rstate_ls)\n",
    "\n",
    "train_x,test_x,train_y,test_y=train_test_split(x,y,test_size=.20,random_state=best_rstate_ls)\n",
    "#train_x.shape,test_x.shape,train_y.shape,test_y.shape\n",
    "#lg=LogisticRegression()\n",
    "ls.fit(train_x,train_y)\n",
    "predls=ls.predict(test_x)\n",
    "print(\"Predicted values using Lasso Regression model:\\n\",predls)\n",
    "\n",
    "print(\"Random state used is:\",best_rstate_ls)\n",
    "print(\"score:\",ls.score(train_x,train_y))\n",
    "print(\"errors:\")\n",
    "print(\"Absolute squarred error:\", mean_absolute_error(test_y,predls))\n",
    "print(\"Mean squarred error:\", mean_squared_error(test_y,predls))"
   ]
  },
  {
   "cell_type": "code",
   "execution_count": 36,
   "metadata": {},
   "outputs": [
    {
     "name": "stdout",
     "output_type": "stream",
     "text": [
      "Predict values are: [ 52.51971017  20.4090827   -1.03168777 ... -16.54231386   7.8286824\n",
      "  52.76909776]\n",
      "Actual values are: 21993     20\n",
      "17608      3\n",
      "347        0\n",
      "13588    145\n",
      "18662      0\n",
      "        ... \n",
      "5914       0\n",
      "20669    198\n",
      "7207       0\n",
      "16993      7\n",
      "11222      3\n",
      "Name: Deaths, Length: 4738, dtype: int64\n"
     ]
    }
   ],
   "source": [
    "output_data_ls=pd.DataFrame(predls)\n",
    "output_data_ls.to_csv(\"E:\\\\python\\\\Covid19_deaths_prediction_lasso.csv\",header=0)\n",
    "\n",
    "\n",
    "print(\"Predict values are:\",predls)\n",
    "print(\"Actual values are:\",test_y)"
   ]
  },
  {
   "cell_type": "code",
   "execution_count": 37,
   "metadata": {},
   "outputs": [
    {
     "name": "stdout",
     "output_type": "stream",
     "text": [
      "Best_score is: 0.8820909105519007 \n",
      "Best random state value is: 82\n",
      "Predicted values using ridge Regression model:\n",
      " [ 52.51978455  20.4091181   -1.03171278 ... -16.54234262   7.82869798\n",
      "  52.76910844]\n",
      "Random state used is: 82\n",
      "score: 0.8820909105519007\n",
      "errors:\n",
      "Absolute squarred error: 317.7677387582299\n",
      "Mean squarred error: 2694404.3122824165\n"
     ]
    }
   ],
   "source": [
    "best_rstate_ridge=0\n",
    "best_score_rd=0\n",
    "\n",
    "for i in range(1,500):\n",
    "    train_x,test_x,train_y,test_y=train_test_split(x,y,test_size=.20,random_state=i)\n",
    "    rd=Ridge(alpha=0.001)\n",
    "    rd.fit(train_x,train_y)\n",
    "    pred_rd=rd.predict(test_x)\n",
    "    temp_score_rd=rd.score(train_x,train_y)\n",
    "    if temp_score_rd > best_score_rd:\n",
    "        best_score_rd = temp_score_rd\n",
    "        best_rstate_rd=i\n",
    "        \n",
    "print(\"Best_score is:\",best_score_rd, \"\\nBest random state value is:\",best_rstate_rd)\n",
    "\n",
    "train_x,test_x,train_y,test_y=train_test_split(x,y,test_size=.20,random_state=best_rstate_rd)\n",
    "#train_x.shape,test_x.shape,train_y.shape,test_y.shape\n",
    "#lg=LogisticRegression()\n",
    "rd.fit(train_x,train_y)\n",
    "predrd=rd.predict(test_x)\n",
    "print(\"Predicted values using ridge Regression model:\\n\",predrd)\n",
    "\n",
    "print(\"Random state used is:\",best_rstate_rd)\n",
    "print(\"score:\",rd.score(train_x,train_y))\n",
    "print(\"errors:\")\n",
    "print(\"Absolute squarred error:\", mean_absolute_error(test_y,predrd))\n",
    "print(\"Mean squarred error:\", mean_squared_error(test_y,predrd))"
   ]
  },
  {
   "cell_type": "code",
   "execution_count": 38,
   "metadata": {},
   "outputs": [
    {
     "name": "stdout",
     "output_type": "stream",
     "text": [
      "Predict values are: [ 52.51978455  20.4091181   -1.03171278 ... -16.54234262   7.82869798\n",
      "  52.76910844]\n",
      "Actual values are: 21993     20\n",
      "17608      3\n",
      "347        0\n",
      "13588    145\n",
      "18662      0\n",
      "        ... \n",
      "5914       0\n",
      "20669    198\n",
      "7207       0\n",
      "16993      7\n",
      "11222      3\n",
      "Name: Deaths, Length: 4738, dtype: int64\n"
     ]
    }
   ],
   "source": [
    "output_data_rd=pd.DataFrame(predrd)\n",
    "output_data_rd.to_csv(\"E:\\\\python\\\\Covid19_deaths_prediction_ridge.csv\",header=0)\n",
    "\n",
    "print(\"Predict values are:\",predrd)\n",
    "print(\"Actual values are:\",test_y)"
   ]
  },
  {
   "cell_type": "code",
   "execution_count": 39,
   "metadata": {},
   "outputs": [
    {
     "name": "stdout",
     "output_type": "stream",
     "text": [
      "Best_score is: 0.8820909105519007 \n",
      "Best random state value is: 82\n",
      "Predicted values using ElasticNet Regression model:\n",
      " [ 52.51973559  20.4090947   -1.03169558 ... -16.54232366   7.82868742\n",
      "  52.76910159]\n",
      "Random state used is: 82\n",
      "score: 0.8820909105519007\n",
      "errors:\n",
      "Absolute squarred error: 317.76772370655556\n",
      "Mean squarred error: 2694404.312755987\n"
     ]
    }
   ],
   "source": [
    "best_rstate_ElasticNet=0\n",
    "best_score_en=0\n",
    "\n",
    "for i in range(1,500):\n",
    "    train_x,test_x,train_y,test_y=train_test_split(x,y,test_size=.20,random_state=i)\n",
    "    en=ElasticNet(alpha=0.001)\n",
    "    en.fit(train_x,train_y)\n",
    "    pred_en=en.predict(test_x)\n",
    "    temp_score_en=en.score(train_x,train_y)\n",
    "    if temp_score_en > best_score_en:\n",
    "        best_score_en = temp_score_en\n",
    "        best_rstate_en=i\n",
    "        \n",
    "print(\"Best_score is:\",best_score_en, \"\\nBest random state value is:\",best_rstate_en)\n",
    "\n",
    "train_x,test_x,train_y,test_y=train_test_split(x,y,test_size=.20,random_state=best_rstate_en)\n",
    "#train_x.shape,test_x.shape,train_y.shape,test_y.shape\n",
    "#lg=LogisticRegression()\n",
    "en.fit(train_x,train_y)\n",
    "preden=en.predict(test_x)\n",
    "print(\"Predicted values using ElasticNet Regression model:\\n\",preden)\n",
    "\n",
    "print(\"Random state used is:\",best_rstate_en)\n",
    "print(\"score:\",en.score(train_x,train_y))\n",
    "print(\"errors:\")\n",
    "print(\"Absolute squarred error:\", mean_absolute_error(test_y,preden))\n",
    "print(\"Mean squarred error:\", mean_squared_error(test_y,preden))"
   ]
  },
  {
   "cell_type": "code",
   "execution_count": 40,
   "metadata": {},
   "outputs": [
    {
     "name": "stdout",
     "output_type": "stream",
     "text": [
      "Predict values are: [ 52.51973559  20.4090947   -1.03169558 ... -16.54232366   7.82868742\n",
      "  52.76910159]\n",
      "Actual values are: 21993     20\n",
      "17608      3\n",
      "347        0\n",
      "13588    145\n",
      "18662      0\n",
      "        ... \n",
      "5914       0\n",
      "20669    198\n",
      "7207       0\n",
      "16993      7\n",
      "11222      3\n",
      "Name: Deaths, Length: 4738, dtype: int64\n"
     ]
    }
   ],
   "source": [
    "output_data_en=pd.DataFrame(preden)\n",
    "output_data_en.to_csv(\"E:\\\\python\\\\Covid19_deaths_prediction_elasticnet.csv\",header=0)\n",
    "\n",
    "print(\"Predict values are:\",preden)\n",
    "print(\"Actual values are:\",test_y)"
   ]
  },
  {
   "cell_type": "code",
   "execution_count": 41,
   "metadata": {},
   "outputs": [],
   "source": [
    "output_data=pd.DataFrame(test_y)\n",
    "output_data.to_csv(\"E:\\\\python\\\\Covid19_deaths_prediction_actualdata.csv\",header=0)\n",
    "# We are saving the predicted values of different regession models \n",
    "#dland also of actual test value in csv file as it becomes easier to compare and check the values in csv files."
   ]
  },
  {
   "cell_type": "code",
   "execution_count": 42,
   "metadata": {},
   "outputs": [
    {
     "name": "stdout",
     "output_type": "stream",
     "text": [
      "Cross validation score of LinearRegression() is= [-1.97011899  0.05087946  0.66187884  0.83883272  0.87337091]\n",
      "Cross validation mean score of LinearRegression() is= 0.09096858683558666\n",
      "Cross validation standard deviation score of LinearRegression() is= 1.0721083720878974\n",
      "****************************************\n",
      "Cross validation score of Lasso(alpha=0.001) is= [-1.97011746  0.05087943  0.66187884  0.83883272  0.87337091]\n",
      "Cross validation mean score of Lasso(alpha=0.001) is= 0.09096888862006883\n",
      "Cross validation standard deviation score of Lasso(alpha=0.001) is= 1.0721077832913513\n",
      "****************************************\n",
      "Cross validation score of Ridge(alpha=0.001) is= [-1.97011899  0.05087946  0.66187884  0.83883272  0.87337091]\n",
      "Cross validation mean score of Ridge(alpha=0.001) is= 0.09096858684656894\n",
      "Cross validation standard deviation score of Ridge(alpha=0.001) is= 1.072108372066615\n",
      "****************************************\n",
      "Cross validation score of ElasticNet(alpha=0.001) is= [-1.9701177   0.05087944  0.66187884  0.83883272  0.87337091]\n",
      "Cross validation mean score of ElasticNet(alpha=0.001) is= 0.09096884169087145\n",
      "Cross validation standard deviation score of ElasticNet(alpha=0.001) is= 1.0721078762785985\n",
      "****************************************\n"
     ]
    }
   ],
   "source": [
    "algo_list=(lr,ls,rd,en)\n",
    "for i in algo_list:\n",
    "    cross_score=cross_val_score(i,x,y,cv=5)\n",
    "    print(\"Cross validation score of\",i,\"is=\",cross_score)\n",
    "    print(\"Cross validation mean score of\",i,\"is=\",cross_score.mean())\n",
    "    print(\"Cross validation standard deviation score of\",i,\"is=\",cross_score.std())\n",
    "    print(\"****************************************\")"
   ]
  },
  {
   "cell_type": "code",
   "execution_count": 43,
   "metadata": {},
   "outputs": [
    {
     "data": {
      "text/plain": [
       "['E:\\\\python\\\\Covid19_deaths_lasso.obj']"
      ]
     },
     "execution_count": 43,
     "metadata": {},
     "output_type": "execute_result"
    }
   ],
   "source": [
    "#After looking at cross validation mean score, mean_absolute_error and r2_score/score of different regression models, I have decided\n",
    "# to use Lasso Regression model in my final object file.\n",
    "# now we will save our model for production use\n",
    "import joblib\n",
    "joblib.dump(ls,'E:\\\\python\\\\Covid19_deaths_lasso.obj')"
   ]
  },
  {
   "cell_type": "code",
   "execution_count": null,
   "metadata": {},
   "outputs": [],
   "source": []
  }
 ],
 "metadata": {
  "kernelspec": {
   "display_name": "Python 3",
   "language": "python",
   "name": "python3"
  },
  "language_info": {
   "codemirror_mode": {
    "name": "ipython",
    "version": 3
   },
   "file_extension": ".py",
   "mimetype": "text/x-python",
   "name": "python",
   "nbconvert_exporter": "python",
   "pygments_lexer": "ipython3",
   "version": "3.8.5"
  }
 },
 "nbformat": 4,
 "nbformat_minor": 4
}
